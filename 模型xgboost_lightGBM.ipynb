{
 "cells": [
  {
   "cell_type": "code",
   "execution_count": 1,
   "metadata": {},
   "outputs": [
    {
     "name": "stderr",
     "output_type": "stream",
     "text": [
      "C:\\Program Files\\Anaconda3\\lib\\site-packages\\sklearn\\cross_validation.py:41: DeprecationWarning: This module was deprecated in version 0.18 in favor of the model_selection module into which all the refactored classes and functions are moved. Also note that the interface of the new CV iterators are different from that of this module. This module will be removed in 0.20.\n",
      "  \"This module will be removed in 0.20.\", DeprecationWarning)\n"
     ]
    }
   ],
   "source": [
    "import json\n",
    "import lightgbm as lgb\n",
    "import pandas as pd\n",
    "from sklearn.metrics import roc_auc_score\n",
    "\n",
    "import matplotlib.pyplot as plt\n",
    "import numpy as np\n",
    "\n",
    "from sklearn.linear_model import ElasticNet, Lasso,  BayesianRidge, LassoLarsIC\n",
    "from sklearn.ensemble import RandomForestRegressor,  GradientBoostingRegressor\n",
    "from sklearn.kernel_ridge import KernelRidge\n",
    "from sklearn.pipeline import make_pipeline\n",
    "from sklearn.preprocessing import RobustScaler\n",
    "from sklearn.base import BaseEstimator, TransformerMixin, RegressorMixin, clone\n",
    "from sklearn.model_selection import KFold, cross_val_score, train_test_split\n",
    "from sklearn.metrics import mean_squared_error\n",
    "from sklearn import cross_validation\n",
    "import xgboost as xgb"
   ]
  },
  {
   "cell_type": "code",
   "execution_count": 2,
   "metadata": {},
   "outputs": [],
   "source": [
    "n_folds = 5\n",
    "\n",
    "def rmsle_cv(model):\n",
    "    kf = KFold(n_folds, shuffle=True, random_state=42).get_n_splits(train.values)\n",
    "    rmse= np.sqrt(-cross_val_score(model, train_X.values, train_Y, scoring=\"neg_mean_squared_error\", cv = kf))\n",
    "    return(rmse)\n",
    "\n",
    "def rmsle(y, y_pred):\n",
    "    return np.sqrt(mean_squared_error(y, y_pred))"
   ]
  },
  {
   "cell_type": "code",
   "execution_count": 3,
   "metadata": {},
   "outputs": [
    {
     "name": "stderr",
     "output_type": "stream",
     "text": [
      "C:\\Program Files\\Anaconda3\\lib\\site-packages\\IPython\\core\\interactiveshell.py:2728: DtypeWarning: Columns (51,160,164,172,213,302,313,314,317,318,319,320,321,323,324,325,336,339,340,364,374,375,376,377,378,379,380,381,382,384,385,386,387,388,389,390,391,392,393,394,395,396,406,407) have mixed types. Specify dtype option on import or set low_memory=False.\n",
      "  interactivity=interactivity, compiler=compiler, result=result)\n",
      "C:\\Program Files\\Anaconda3\\lib\\site-packages\\IPython\\core\\interactiveshell.py:2728: DtypeWarning: Columns (172,213,263,312,313,317,321,339,340,374,375,376,377,378,380,381,382,384,386,387,388,389,390,391,392,393,394,395,396) have mixed types. Specify dtype option on import or set low_memory=False.\n",
      "  interactivity=interactivity, compiler=compiler, result=result)\n"
     ]
    }
   ],
   "source": [
    "train=pd.read_csv(\"train_num_add.csv\")\n",
    "test=pd.read_csv(\"test_num_add.csv\")"
   ]
  },
  {
   "cell_type": "code",
   "execution_count": 4,
   "metadata": {},
   "outputs": [],
   "source": [
    "target=['收缩压', '舒张压', '血清甘油三酯', '血清高密度脂蛋白', '血清低密度脂蛋白']"
   ]
  },
  {
   "cell_type": "code",
   "execution_count": 5,
   "metadata": {},
   "outputs": [
    {
     "data": {
      "text/html": [
       "<div>\n",
       "<style scoped>\n",
       "    .dataframe tbody tr th:only-of-type {\n",
       "        vertical-align: middle;\n",
       "    }\n",
       "\n",
       "    .dataframe tbody tr th {\n",
       "        vertical-align: top;\n",
       "    }\n",
       "\n",
       "    .dataframe thead th {\n",
       "        text-align: right;\n",
       "    }\n",
       "</style>\n",
       "<table border=\"1\" class=\"dataframe\">\n",
       "  <thead>\n",
       "    <tr style=\"text-align: right;\">\n",
       "      <th></th>\n",
       "      <th>收缩压</th>\n",
       "      <th>舒张压</th>\n",
       "      <th>血清甘油三酯</th>\n",
       "      <th>血清高密度脂蛋白</th>\n",
       "      <th>血清低密度脂蛋白</th>\n",
       "    </tr>\n",
       "  </thead>\n",
       "  <tbody>\n",
       "    <tr>\n",
       "      <th>count</th>\n",
       "      <td>38192.000000</td>\n",
       "      <td>38190.000000</td>\n",
       "      <td>38199.000000</td>\n",
       "      <td>38199.000000</td>\n",
       "      <td>38199.000000</td>\n",
       "    </tr>\n",
       "    <tr>\n",
       "      <th>mean</th>\n",
       "      <td>126.049618</td>\n",
       "      <td>76.998115</td>\n",
       "      <td>1.616563</td>\n",
       "      <td>1.406683</td>\n",
       "      <td>2.769720</td>\n",
       "    </tr>\n",
       "    <tr>\n",
       "      <th>std</th>\n",
       "      <td>19.275625</td>\n",
       "      <td>12.580344</td>\n",
       "      <td>1.344201</td>\n",
       "      <td>0.341184</td>\n",
       "      <td>0.852187</td>\n",
       "    </tr>\n",
       "    <tr>\n",
       "      <th>min</th>\n",
       "      <td>0.000000</td>\n",
       "      <td>0.000000</td>\n",
       "      <td>0.100000</td>\n",
       "      <td>0.150000</td>\n",
       "      <td>-1.200000</td>\n",
       "    </tr>\n",
       "    <tr>\n",
       "      <th>25%</th>\n",
       "      <td>112.000000</td>\n",
       "      <td>68.000000</td>\n",
       "      <td>0.880000</td>\n",
       "      <td>1.160000</td>\n",
       "      <td>2.180000</td>\n",
       "    </tr>\n",
       "    <tr>\n",
       "      <th>50%</th>\n",
       "      <td>124.000000</td>\n",
       "      <td>76.000000</td>\n",
       "      <td>1.270000</td>\n",
       "      <td>1.350000</td>\n",
       "      <td>2.690000</td>\n",
       "    </tr>\n",
       "    <tr>\n",
       "      <th>75%</th>\n",
       "      <td>137.000000</td>\n",
       "      <td>85.000000</td>\n",
       "      <td>1.910000</td>\n",
       "      <td>1.600000</td>\n",
       "      <td>3.260000</td>\n",
       "    </tr>\n",
       "    <tr>\n",
       "      <th>max</th>\n",
       "      <td>252.000000</td>\n",
       "      <td>148.000000</td>\n",
       "      <td>28.800000</td>\n",
       "      <td>4.780000</td>\n",
       "      <td>11.500000</td>\n",
       "    </tr>\n",
       "  </tbody>\n",
       "</table>\n",
       "</div>"
      ],
      "text/plain": [
       "                收缩压           舒张压        血清甘油三酯      血清高密度脂蛋白      血清低密度脂蛋白\n",
       "count  38192.000000  38190.000000  38199.000000  38199.000000  38199.000000\n",
       "mean     126.049618     76.998115      1.616563      1.406683      2.769720\n",
       "std       19.275625     12.580344      1.344201      0.341184      0.852187\n",
       "min        0.000000      0.000000      0.100000      0.150000     -1.200000\n",
       "25%      112.000000     68.000000      0.880000      1.160000      2.180000\n",
       "50%      124.000000     76.000000      1.270000      1.350000      2.690000\n",
       "75%      137.000000     85.000000      1.910000      1.600000      3.260000\n",
       "max      252.000000    148.000000     28.800000      4.780000     11.500000"
      ]
     },
     "execution_count": 5,
     "metadata": {},
     "output_type": "execute_result"
    }
   ],
   "source": [
    "#train[target].describe()"
   ]
  },
  {
   "cell_type": "code",
   "execution_count": 6,
   "metadata": {},
   "outputs": [],
   "source": [
    "train_num=train.select_dtypes(float)"
   ]
  },
  {
   "cell_type": "code",
   "execution_count": 7,
   "metadata": {},
   "outputs": [],
   "source": [
    "train_num=train.select_dtypes(float)\n",
    "train_X=train_num.iloc[:,5:]"
   ]
  },
  {
   "cell_type": "code",
   "execution_count": 8,
   "metadata": {},
   "outputs": [],
   "source": [
    "del train_X['669001']\n",
    "del train_X['31']"
   ]
  },
  {
   "cell_type": "code",
   "execution_count": 9,
   "metadata": {},
   "outputs": [],
   "source": [
    "train_X=train_X.fillna(train_X.median())"
   ]
  },
  {
   "cell_type": "code",
   "execution_count": 10,
   "metadata": {},
   "outputs": [],
   "source": [
    "test_new = test.loc[:, train_X.columns]  # 对test进行处理和train一样\n",
    "test_new = test_new.fillna(test_new.median())  # test集缺失取中位数"
   ]
  },
  {
   "cell_type": "code",
   "execution_count": 11,
   "metadata": {},
   "outputs": [],
   "source": [
    "for i in range(0,5):\n",
    "    train_Y = train_num.iloc[:, i]\n",
    "    train_Y = train_Y.fillna(train_Y.median())\n",
    "\n",
    "    # model_lgb\n",
    "    model_lgb = lgb.LGBMRegressor(objective='regression', num_leaves=5,\n",
    "                                  learning_rate=0.01, n_estimators=9200,\n",
    "                                  max_bin=55, bagging_fraction=0.8,\n",
    "                                  bagging_freq=5, feature_fraction=0.2319,\n",
    "                                  feature_fraction_seed=9, bagging_seed=9,\n",
    "                                  min_data_in_leaf=6, min_sum_hessian_in_leaf=11)\n",
    "\n",
    "    model_lgb.fit(train_X, train_Y)  # 训练\n",
    "    lgb_train_pred = model_lgb.predict(train_X)  # 获得训练模型\n",
    "    lgb_test = model_lgb.predict(test_new)  # 得到test的预测结果\n",
    "    lgb_test_pred = lgb_test.reshape(-1, 1)\n",
    "    if i!=0:\n",
    "        lgb_pred= np.concatenate((lgb_pred, lgb_test_pred), axis=1)\n",
    "    else:\n",
    "        lgb_pred=lgb_test_pred"
   ]
  },
  {
   "cell_type": "code",
   "execution_count": 12,
   "metadata": {},
   "outputs": [],
   "source": [
    "for i in range(0,5):\n",
    "    train_Y = train_num.iloc[:, i]\n",
    "    train_Y = train_Y.fillna(train_Y.median())\n",
    "    # model_xgb\n",
    "    model_xgb = xgb.XGBRegressor(colsample_bytree=0.4603, gamma=0.0468,\n",
    "                                 learning_rate=0.05, max_depth=3,\n",
    "                                 min_child_weight=1.7817, n_estimators=300,\n",
    "                                 reg_alpha=0.4640, reg_lambda=0.8571,\n",
    "                                 subsample=0.5213, silent=1,\n",
    "                                 random_state=7, nthread=-1)\n",
    "\n",
    "    model_xgb.fit(train_X, train_Y)  # 训练\n",
    "    xgb_train_pred = model_xgb.predict(train_X)  # 获得训练模型\n",
    "    xgb_test = model_xgb.predict(test_new)  # 得到test的预测结果\n",
    "    xgb_test_pred = xgb_test.reshape(-1, 1)\n",
    "    if i != 0:\n",
    "        xgb_pred = np.concatenate((xgb_pred, xgb_test_pred), axis=1)\n",
    "    else:\n",
    "        xgb_pred = xgb_test_pred"
   ]
  },
  {
   "cell_type": "code",
   "execution_count": 13,
   "metadata": {},
   "outputs": [
    {
     "name": "stdout",
     "output_type": "stream",
     "text": [
      "                 0            1            2            3            4\n",
      "count  9532.000000  9532.000000  9532.000000  9532.000000  9532.000000\n",
      "mean    124.866325    74.707498     1.682430     1.377432     2.826589\n",
      "std       9.514548     6.020823     0.741554     0.164053     0.406645\n",
      "min      99.995690    59.195576     0.307312     0.879635     1.152718\n",
      "25%     118.170483    70.160078     1.185623     1.260826     2.575039\n",
      "50%     124.496339    74.466840     1.532368     1.362537     2.826900\n",
      "75%     131.262857    78.912050     1.990138     1.475962     3.070439\n",
      "max     181.701804   113.856280    13.365487     2.232538     5.388278\n",
      "                 0            1            2            3            4\n",
      "count  9532.000000  9532.000000  9532.000000  9532.000000  9532.000000\n",
      "mean    126.431084    76.413223     1.589327     1.387598     2.896799\n",
      "std       8.678664     5.759426     0.757081     0.145241     0.344377\n",
      "min     104.900665    62.511486     0.543210     0.918860     1.468413\n",
      "25%     120.435953    71.957376     1.090164     1.276466     2.687223\n",
      "50%     126.324364    76.319614     1.445486     1.372829     2.909502\n",
      "75%     132.368835    80.598503     1.894170     1.481586     3.096108\n",
      "max     170.236679   105.860901    15.587029     2.177039     5.375355\n"
     ]
    }
   ],
   "source": [
    "lgb_pred=pd.DataFrame(lgb_pred)\n",
    "print(lgb_pred.describe())\n",
    "xgb_pred=pd.DataFrame(xgb_pred)\n",
    "print(xgb_pred.describe())"
   ]
  },
  {
   "cell_type": "code",
   "execution_count": 14,
   "metadata": {},
   "outputs": [
    {
     "data": {
      "text/html": [
       "<div>\n",
       "<style scoped>\n",
       "    .dataframe tbody tr th:only-of-type {\n",
       "        vertical-align: middle;\n",
       "    }\n",
       "\n",
       "    .dataframe tbody tr th {\n",
       "        vertical-align: top;\n",
       "    }\n",
       "\n",
       "    .dataframe thead th {\n",
       "        text-align: right;\n",
       "    }\n",
       "</style>\n",
       "<table border=\"1\" class=\"dataframe\">\n",
       "  <thead>\n",
       "    <tr style=\"text-align: right;\">\n",
       "      <th></th>\n",
       "      <th>收缩压</th>\n",
       "      <th>舒张压</th>\n",
       "      <th>血清甘油三酯</th>\n",
       "      <th>血清高密度脂蛋白</th>\n",
       "      <th>血清低密度脂蛋白</th>\n",
       "    </tr>\n",
       "  </thead>\n",
       "  <tbody>\n",
       "    <tr>\n",
       "      <th>count</th>\n",
       "      <td>38192.000000</td>\n",
       "      <td>38190.000000</td>\n",
       "      <td>38199.000000</td>\n",
       "      <td>38199.000000</td>\n",
       "      <td>38199.000000</td>\n",
       "    </tr>\n",
       "    <tr>\n",
       "      <th>mean</th>\n",
       "      <td>126.049618</td>\n",
       "      <td>76.998115</td>\n",
       "      <td>1.616563</td>\n",
       "      <td>1.406683</td>\n",
       "      <td>2.769720</td>\n",
       "    </tr>\n",
       "    <tr>\n",
       "      <th>std</th>\n",
       "      <td>19.275625</td>\n",
       "      <td>12.580344</td>\n",
       "      <td>1.344201</td>\n",
       "      <td>0.341184</td>\n",
       "      <td>0.852187</td>\n",
       "    </tr>\n",
       "    <tr>\n",
       "      <th>min</th>\n",
       "      <td>0.000000</td>\n",
       "      <td>0.000000</td>\n",
       "      <td>0.100000</td>\n",
       "      <td>0.150000</td>\n",
       "      <td>-1.200000</td>\n",
       "    </tr>\n",
       "    <tr>\n",
       "      <th>25%</th>\n",
       "      <td>112.000000</td>\n",
       "      <td>68.000000</td>\n",
       "      <td>0.880000</td>\n",
       "      <td>1.160000</td>\n",
       "      <td>2.180000</td>\n",
       "    </tr>\n",
       "    <tr>\n",
       "      <th>50%</th>\n",
       "      <td>124.000000</td>\n",
       "      <td>76.000000</td>\n",
       "      <td>1.270000</td>\n",
       "      <td>1.350000</td>\n",
       "      <td>2.690000</td>\n",
       "    </tr>\n",
       "    <tr>\n",
       "      <th>75%</th>\n",
       "      <td>137.000000</td>\n",
       "      <td>85.000000</td>\n",
       "      <td>1.910000</td>\n",
       "      <td>1.600000</td>\n",
       "      <td>3.260000</td>\n",
       "    </tr>\n",
       "    <tr>\n",
       "      <th>max</th>\n",
       "      <td>252.000000</td>\n",
       "      <td>148.000000</td>\n",
       "      <td>28.800000</td>\n",
       "      <td>4.780000</td>\n",
       "      <td>11.500000</td>\n",
       "    </tr>\n",
       "  </tbody>\n",
       "</table>\n",
       "</div>"
      ],
      "text/plain": [
       "                收缩压           舒张压        血清甘油三酯      血清高密度脂蛋白      血清低密度脂蛋白\n",
       "count  38192.000000  38190.000000  38199.000000  38199.000000  38199.000000\n",
       "mean     126.049618     76.998115      1.616563      1.406683      2.769720\n",
       "std       19.275625     12.580344      1.344201      0.341184      0.852187\n",
       "min        0.000000      0.000000      0.100000      0.150000     -1.200000\n",
       "25%      112.000000     68.000000      0.880000      1.160000      2.180000\n",
       "50%      124.000000     76.000000      1.270000      1.350000      2.690000\n",
       "75%      137.000000     85.000000      1.910000      1.600000      3.260000\n",
       "max      252.000000    148.000000     28.800000      4.780000     11.500000"
      ]
     },
     "execution_count": 14,
     "metadata": {},
     "output_type": "execute_result"
    }
   ],
   "source": [
    "train[target].describe()"
   ]
  },
  {
   "cell_type": "code",
   "execution_count": 17,
   "metadata": {},
   "outputs": [],
   "source": [
    "#lgb_pred=lgb_pred_bp\n",
    "#xgb_pred=xgb_pred_bp"
   ]
  },
  {
   "cell_type": "code",
   "execution_count": 18,
   "metadata": {},
   "outputs": [],
   "source": [
    "#lgb_pred[1][lgb_pred[1]==0]=77.231599\n",
    "#xgb_pred[1][xgb_pred[1]==0]=77.782040"
   ]
  },
  {
   "cell_type": "code",
   "execution_count": 19,
   "metadata": {},
   "outputs": [],
   "source": [
    "#lgb_pred[1][lgb_pred[1]>200]=77.231599\n",
    "#xgb_pred[1][xgb_pred[1]>200]=77.782040"
   ]
  },
  {
   "cell_type": "code",
   "execution_count": 20,
   "metadata": {},
   "outputs": [],
   "source": [
    "pred=lgb_pred*0.7+xgb_pred*0.3;\n",
    "final=pd.DataFrame(pred)\n",
    " #final=pd.DataFrame({u\"收缩压\":pred[:,0],u\"舒张压\":pred[:,1],u\"血清甘油三酯\":pred[:,2],u\"血清高密度脂蛋白\":pred[:,3],u\"血清低密度脂蛋白\":pred[:,4]})\n",
    "file=pd.concat([test.vid,final],axis=1)\n",
    "file.to_csv(\"meinian6.csv\", index = False)"
   ]
  },
  {
   "cell_type": "code",
   "execution_count": 59,
   "metadata": {},
   "outputs": [
    {
     "data": {
      "text/plain": [
       "0    0\n",
       "1    0\n",
       "2    0\n",
       "3    0\n",
       "4    0\n",
       "dtype: int64"
      ]
     },
     "execution_count": 59,
     "metadata": {},
     "output_type": "execute_result"
    }
   ],
   "source": [
    "(lgb_pred<0).sum()"
   ]
  },
  {
   "cell_type": "code",
   "execution_count": 47,
   "metadata": {},
   "outputs": [
    {
     "name": "stdout",
     "output_type": "stream",
     "text": [
      "Series([], Name: 0, dtype: float32)\n",
      "30      -575.272583\n",
      "110     -272.267548\n",
      "128     -125.696342\n",
      "240      -19.229986\n",
      "417      -36.794514\n",
      "493    -1260.731079\n",
      "939    -1090.840454\n",
      "1104   -1324.952271\n",
      "1253     -67.887833\n",
      "1294     -91.284958\n",
      "1304    -544.071655\n",
      "1541      -7.099840\n",
      "1578      -8.224051\n",
      "1598   -4570.165039\n",
      "1610     -51.457481\n",
      "1635     -15.515310\n",
      "1701    -160.929871\n",
      "1867    -281.234497\n",
      "1940     -87.334023\n",
      "1989     -20.658056\n",
      "2108    -110.023933\n",
      "2150    -197.905884\n",
      "2265    -167.408600\n",
      "2329    -384.666779\n",
      "2411     -11.122890\n",
      "2463     -58.971989\n",
      "2499     -73.434212\n",
      "2666   -2510.638428\n",
      "2841    -109.194382\n",
      "2858     -20.253752\n",
      "           ...     \n",
      "7086     -26.539587\n",
      "7087     -17.179918\n",
      "7109     -22.036699\n",
      "7156     -25.732227\n",
      "7282   -4570.052734\n",
      "7303    -569.696838\n",
      "7486    -252.312012\n",
      "7747     -41.764908\n",
      "7910    -103.794563\n",
      "7941      -4.916812\n",
      "8011    -762.047607\n",
      "8042     -23.226770\n",
      "8081     -23.077566\n",
      "8213     -21.583958\n",
      "8223   -1377.360107\n",
      "8281    -143.746246\n",
      "8282    -304.277557\n",
      "8378     -13.202617\n",
      "8453   -4614.679688\n",
      "8533   -1346.852417\n",
      "8733    -332.021881\n",
      "8772     -71.890640\n",
      "8895   -4618.523438\n",
      "8956     -17.012156\n",
      "9013      -2.185715\n",
      "9057     -25.555710\n",
      "9151     -30.069910\n",
      "9208    -454.186066\n",
      "9519    -373.767334\n",
      "9522      -9.585558\n",
      "Name: 1, Length: 89, dtype: float32\n",
      "Series([], Name: 2, dtype: float32)\n",
      "Series([], Name: 3, dtype: float32)\n",
      "Series([], Name: 4, dtype: float32)\n"
     ]
    }
   ],
   "source": [
    "xgb_pred=pd.DataFrame(xgb_pred)\n",
    "for x in range(5):\n",
    "    print(xgb_pred[x][xgb_pred[x]<0])"
   ]
  },
  {
   "cell_type": "code",
   "execution_count": 32,
   "metadata": {},
   "outputs": [
    {
     "data": {
      "text/html": [
       "<div>\n",
       "<style scoped>\n",
       "    .dataframe tbody tr th:only-of-type {\n",
       "        vertical-align: middle;\n",
       "    }\n",
       "\n",
       "    .dataframe tbody tr th {\n",
       "        vertical-align: top;\n",
       "    }\n",
       "\n",
       "    .dataframe thead th {\n",
       "        text-align: right;\n",
       "    }\n",
       "</style>\n",
       "<table border=\"1\" class=\"dataframe\">\n",
       "  <thead>\n",
       "    <tr style=\"text-align: right;\">\n",
       "      <th></th>\n",
       "      <th>0</th>\n",
       "      <th>1</th>\n",
       "      <th>2</th>\n",
       "      <th>3</th>\n",
       "      <th>4</th>\n",
       "    </tr>\n",
       "  </thead>\n",
       "  <tbody>\n",
       "    <tr>\n",
       "      <th>count</th>\n",
       "      <td>9532.000000</td>\n",
       "      <td>9532.000000</td>\n",
       "      <td>9532.000000</td>\n",
       "      <td>9532.000000</td>\n",
       "      <td>9532.000000</td>\n",
       "    </tr>\n",
       "    <tr>\n",
       "      <th>mean</th>\n",
       "      <td>125.335860</td>\n",
       "      <td>80.758962</td>\n",
       "      <td>1.654498</td>\n",
       "      <td>1.380483</td>\n",
       "      <td>2.847650</td>\n",
       "    </tr>\n",
       "    <tr>\n",
       "      <th>std</th>\n",
       "      <td>9.194030</td>\n",
       "      <td>191.506718</td>\n",
       "      <td>0.733155</td>\n",
       "      <td>0.156180</td>\n",
       "      <td>0.383901</td>\n",
       "    </tr>\n",
       "    <tr>\n",
       "      <th>min</th>\n",
       "      <td>101.508019</td>\n",
       "      <td>-2871.241274</td>\n",
       "      <td>0.397612</td>\n",
       "      <td>0.909420</td>\n",
       "      <td>1.248532</td>\n",
       "    </tr>\n",
       "    <tr>\n",
       "      <th>25%</th>\n",
       "      <td>118.863444</td>\n",
       "      <td>71.316962</td>\n",
       "      <td>1.162071</td>\n",
       "      <td>1.267494</td>\n",
       "      <td>2.612188</td>\n",
       "    </tr>\n",
       "    <tr>\n",
       "      <th>50%</th>\n",
       "      <td>125.061712</td>\n",
       "      <td>77.355957</td>\n",
       "      <td>1.508958</td>\n",
       "      <td>1.365274</td>\n",
       "      <td>2.852782</td>\n",
       "    </tr>\n",
       "    <tr>\n",
       "      <th>75%</th>\n",
       "      <td>131.622463</td>\n",
       "      <td>81.684158</td>\n",
       "      <td>1.960816</td>\n",
       "      <td>1.477328</td>\n",
       "      <td>3.078404</td>\n",
       "    </tr>\n",
       "    <tr>\n",
       "      <th>max</th>\n",
       "      <td>177.221681</td>\n",
       "      <td>13061.092357</td>\n",
       "      <td>12.341983</td>\n",
       "      <td>2.196862</td>\n",
       "      <td>5.384401</td>\n",
       "    </tr>\n",
       "  </tbody>\n",
       "</table>\n",
       "</div>"
      ],
      "text/plain": [
       "                 0             1            2            3            4\n",
       "count  9532.000000   9532.000000  9532.000000  9532.000000  9532.000000\n",
       "mean    125.335860     80.758962     1.654498     1.380483     2.847650\n",
       "std       9.194030    191.506718     0.733155     0.156180     0.383901\n",
       "min     101.508019  -2871.241274     0.397612     0.909420     1.248532\n",
       "25%     118.863444     71.316962     1.162071     1.267494     2.612188\n",
       "50%     125.061712     77.355957     1.508958     1.365274     2.852782\n",
       "75%     131.622463     81.684158     1.960816     1.477328     3.078404\n",
       "max     177.221681  13061.092357    12.341983     2.196862     5.384401"
      ]
     },
     "execution_count": 32,
     "metadata": {},
     "output_type": "execute_result"
    }
   ],
   "source": [
    "file.describe()"
   ]
  },
  {
   "cell_type": "code",
   "execution_count": null,
   "metadata": {},
   "outputs": [],
   "source": []
  }
 ],
 "metadata": {
  "kernelspec": {
   "display_name": "Python [conda env:Anaconda3]",
   "language": "python",
   "name": "conda-env-Anaconda3-py"
  },
  "language_info": {
   "codemirror_mode": {
    "name": "ipython",
    "version": 3
   },
   "file_extension": ".py",
   "mimetype": "text/x-python",
   "name": "python",
   "nbconvert_exporter": "python",
   "pygments_lexer": "ipython3",
   "version": "3.5.5"
  }
 },
 "nbformat": 4,
 "nbformat_minor": 2
}
