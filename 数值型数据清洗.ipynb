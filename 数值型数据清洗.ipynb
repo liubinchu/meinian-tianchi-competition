{
 "cells": [
  {
   "cell_type": "code",
   "execution_count": 1,
   "metadata": {},
   "outputs": [
    {
     "name": "stdout",
     "output_type": "stream",
     "text": [
      "3.5.5 |Anaconda 4.2.0 (64-bit)| (default, Mar 12 2018, 17:44:09) [MSC v.1900 64 bit (AMD64)]\n",
      "0.22.0\n",
      "NumPy version: 1.14.2\n",
      "IPython version: 6.2.1\n"
     ]
    }
   ],
   "source": [
    "import sys\n",
    "print(sys.version)\n",
    "import pandas as pd\n",
    "print(pd.__version__)\n",
    "import numpy as np\n",
    "print(\"NumPy version: {}\". format(np.__version__))\n",
    "import scipy.stats\n",
    "import IPython\n",
    "from IPython import display \n",
    "print(\"IPython version: {}\". format(IPython.__version__)) \n",
    "import warnings\n",
    "warnings.filterwarnings('ignore')\n",
    "import re\n",
    "from IPython.core.interactiveshell import  InteractiveShell\n",
    "InteractiveShell.ast_node_interactivity=\"all\""
   ]
  },
  {
   "cell_type": "code",
   "execution_count": 2,
   "metadata": {},
   "outputs": [],
   "source": [
    "# 读取数据\n",
    "train=pd.read_csv(\"train_set.csv\")\n",
    "test=pd.read_csv(\"test_set.csv\")"
   ]
  },
  {
   "cell_type": "code",
   "execution_count": 3,
   "metadata": {},
   "outputs": [],
   "source": [
    "train_index=train.index\n",
    "test_index=test.index"
   ]
  },
  {
   "cell_type": "code",
   "execution_count": 4,
   "metadata": {},
   "outputs": [
    {
     "data": {
      "text/plain": [
       "(47731, 408)"
      ]
     },
     "execution_count": 4,
     "metadata": {},
     "output_type": "execute_result"
    },
    {
     "data": {
      "text/plain": [
       "(38199, 408)"
      ]
     },
     "execution_count": 4,
     "metadata": {},
     "output_type": "execute_result"
    },
    {
     "data": {
      "text/plain": [
       "(9532, 408)"
      ]
     },
     "execution_count": 4,
     "metadata": {},
     "output_type": "execute_result"
    }
   ],
   "source": [
    "all_data=pd.concat([train,test],axis=0)\n",
    "all_data.shape\n",
    "train.shape\n",
    "test.shape"
   ]
  },
  {
   "cell_type": "code",
   "execution_count": 5,
   "metadata": {},
   "outputs": [],
   "source": [
    "num_feat=list(all_data.select_dtypes(exclude=[\"object\"]).columns)"
   ]
  },
  {
   "cell_type": "code",
   "execution_count": 6,
   "metadata": {},
   "outputs": [],
   "source": [
    "targets=['收缩压', '舒张压', '血清甘油三酯', '血清高密度脂蛋白', '血清低密度脂蛋白']\n",
    "for x in targets:\n",
    "    num_feat.remove(x)\n",
    "    pass"
   ]
  },
  {
   "cell_type": "code",
   "execution_count": 7,
   "metadata": {},
   "outputs": [
    {
     "name": "stdout",
     "output_type": "stream",
     "text": [
      "类别型数量 322\n",
      "数值型数量 81\n",
      "targets数量 5\n",
      "总量 408\n"
     ]
    }
   ],
   "source": [
    "cat_feat=list(all_data.columns)\n",
    "for x in num_feat:\n",
    "    cat_feat.remove(x)\n",
    "    pass\n",
    "for x in targets:\n",
    "    cat_feat.remove(x)\n",
    "    pass\n",
    "print(\"类别型数量\",len(cat_feat))\n",
    "print(\"数值型数量\",len(num_feat))\n",
    "print(\"targets数量\",len(targets))\n",
    "print(\"总量\",len(list(all_data.columns)))"
   ]
  },
  {
   "cell_type": "code",
   "execution_count": 8,
   "metadata": {},
   "outputs": [],
   "source": [
    "# 删除掉一些出现次数低，缺失比例大的字段，保留超过阈值的特征\n",
    "def remain_feat(df,thresh=0.9):\n",
    "    \"\"\"\n",
    "    删除掉一些出现次数低，缺失比例大的字段，保留超过阈值的特征,返回 需要保存的特征的list\n",
    "    \"\"\"\n",
    "    exclude_feats = []\n",
    "    print('----------移除数据缺失多的字段-----------')\n",
    "    print('移除之前总的字段数量',len(df.columns))\n",
    "    num_rows = df.shape[0]\n",
    "    for c in df.columns:\n",
    "        num_missing = df[c].isnull().sum()\n",
    "        if num_missing == 0:\n",
    "            continue\n",
    "        missing_percent = num_missing / float(num_rows)\n",
    "        if missing_percent > thresh:\n",
    "            exclude_feats.append(c)\n",
    "    print(\"移除缺失数据的字段数量: %s\" % len(exclude_feats))\n",
    "    # 保留超过阈值的特征\n",
    "    feats = []\n",
    "    for c in df.columns:\n",
    "        if c not in exclude_feats:\n",
    "            feats.append(c)\n",
    "    print('剩余的字段数量',len(feats))\n",
    "    return feats"
   ]
  },
  {
   "cell_type": "code",
   "execution_count": 9,
   "metadata": {},
   "outputs": [
    {
     "name": "stdout",
     "output_type": "stream",
     "text": [
      "----------移除数据缺失多的字段-----------\n",
      "移除之前总的字段数量 408\n",
      "移除缺失数据的字段数量: 0\n",
      "剩余的字段数量 408\n"
     ]
    }
   ],
   "source": [
    "feat_remain=remain_feat(train,thresh=0.96)"
   ]
  },
  {
   "cell_type": "code",
   "execution_count": 10,
   "metadata": {},
   "outputs": [],
   "source": [
    "def getFeatureInfo(i, df, n=20):\n",
    "    \"\"\"\n",
    "    展示指定行、或者指定字段的信息：unique_list，null_count\n",
    "   Params:\n",
    "   ---------------\n",
    "   i  : int or str : 特征索引或者名称\n",
    "   n : 展示前n个属性\n",
    "   df ： 指定的DataFrame\n",
    "\n",
    "   e.g.:\n",
    "   --------------\n",
    "   getFeatureInfo(0, data_fmt_all)\n",
    "   getFeatureInfo('0102', data_fmt_all)\n",
    "    \"\"\"\n",
    "    if isinstance(i, int):\n",
    "        col = df.columns[i]\n",
    "        f = df.iloc[:,i]\n",
    "    else:\n",
    "        col = i\n",
    "        f = df[i]\n",
    "    f_u = pd.unique(f)    \n",
    "    print(\"Feature \\t:\\t\",col)\n",
    "    print(\"Types \\t\\t:\\t\",len(f_u))\n",
    "    print(\"Null Count \\t:\\t\",pd.isnull(f).sum())\n",
    "    print(\"Value Counts :\")\n",
    "    print(\"---------------------\")\n",
    "    print(pd.value_counts(f).sort_values(ascending=False)[:n])\n",
    "    print(\"--------------amazing dividing line-------------------\")"
   ]
  },
  {
   "cell_type": "code",
   "execution_count": 11,
   "metadata": {},
   "outputs": [],
   "source": [
    "#for x in cat_feat:\n",
    " #   getFeatureInfo(x,train,n=10)\n",
    "  #  pass"
   ]
  },
  {
   "cell_type": "code",
   "execution_count": 12,
   "metadata": {},
   "outputs": [],
   "source": [
    "# 类型分类_1 进一步处理 "
   ]
  },
  {
   "cell_type": "code",
   "execution_count": 13,
   "metadata": {},
   "outputs": [],
   "source": [
    "#set(all_data[\"0104\"].dropna())"
   ]
  },
  {
   "cell_type": "code",
   "execution_count": 14,
   "metadata": {},
   "outputs": [],
   "source": [
    "import re\n",
    "r_biaodian=\"['-/<>]+\"\n",
    "r_hanzi=\"[\\u4e00-\\u9fa5]+\"\n",
    "def adjust_type(x):\n",
    "    if isinstance(x,str):\n",
    "        #x=re.sub(r_biaodian,\"\",x)# 去除标点\n",
    "        #x=(re.sub(r_hanzi,\"\",x))# 去除汉字\n",
    "        #list_x=x.split()\n",
    "        list_x=re.findall(r\"\\d+\\.?\\d*\",x)\n",
    "        list_x=pd.Series([float(x) for x in list_x])\n",
    "        if list_x.count()==0:\n",
    "            return 0\n",
    "        else: return list_x.mean()\n",
    "    else: return x"
   ]
  },
  {
   "cell_type": "code",
   "execution_count": 15,
   "metadata": {},
   "outputs": [],
   "source": [
    "#float(adjust_type(\"''''12''\"))# 测试"
   ]
  },
  {
   "cell_type": "code",
   "execution_count": 16,
   "metadata": {},
   "outputs": [],
   "source": [
    "x=\"0104\"\n",
    "temp=all_data[x].apply(adjust_type)\n",
    "#set(temp.dropna())\n",
    "all_data[x]=temp"
   ]
  },
  {
   "cell_type": "code",
   "execution_count": 17,
   "metadata": {},
   "outputs": [],
   "source": [
    "x=\"0107\"\n",
    "temp=all_data[x].apply(adjust_type)\n",
    "#set(temp.dropna())\n",
    "all_data[x]=temp\n",
    "#set(all_data[x].dropna())"
   ]
  },
  {
   "cell_type": "code",
   "execution_count": 18,
   "metadata": {},
   "outputs": [],
   "source": [
    "x=\"100006\"\n",
    "temp=all_data[x].apply(adjust_type)\n",
    "#set(temp.dropna())\n",
    "all_data[x]=temp\n",
    "#set(all_data[x].dropna())"
   ]
  },
  {
   "cell_type": "code",
   "execution_count": 19,
   "metadata": {},
   "outputs": [],
   "source": [
    "x=\"0424\"\n",
    "#set(all_data[x].dropna())\n",
    "temp=all_data[x].apply(adjust_type)\n",
    "#set(temp.dropna())\n",
    "all_data[x]=temp\n",
    "#set(all_data[x].dropna())"
   ]
  },
  {
   "cell_type": "code",
   "execution_count": 20,
   "metadata": {},
   "outputs": [],
   "source": [
    "x=\"100012\"\n",
    "#set(all_data[x].dropna())\n",
    "temp=all_data[x].apply(adjust_type)\n",
    "#set(temp.dropna())\n",
    "all_data[x]=temp\n",
    "#set(all_data[x].dropna())"
   ]
  },
  {
   "cell_type": "code",
   "execution_count": 21,
   "metadata": {},
   "outputs": [],
   "source": [
    "x=\"100013\"\n",
    "#set(all_data[x].dropna())"
   ]
  },
  {
   "cell_type": "code",
   "execution_count": 22,
   "metadata": {},
   "outputs": [],
   "source": [
    "temp=all_data[x].apply(adjust_type)\n",
    "#set(temp.dropna())\n",
    "all_data[x]=temp\n",
    "#set(all_data[x].dropna())"
   ]
  },
  {
   "cell_type": "code",
   "execution_count": 23,
   "metadata": {},
   "outputs": [],
   "source": [
    "x=\"100014\"\n",
    "#set(all_data[x].dropna())"
   ]
  },
  {
   "cell_type": "code",
   "execution_count": 24,
   "metadata": {},
   "outputs": [],
   "source": [
    "temp=all_data[x].apply(adjust_type)\n",
    "#set(temp.dropna())\n",
    "all_data[x]=temp\n",
    "#set(all_data[x].dropna())"
   ]
  },
  {
   "cell_type": "code",
   "execution_count": 25,
   "metadata": {},
   "outputs": [],
   "source": [
    "x=\"10002\"\n",
    "#set(all_data[x].dropna())"
   ]
  },
  {
   "cell_type": "code",
   "execution_count": 26,
   "metadata": {},
   "outputs": [],
   "source": [
    "temp=all_data[x].apply(adjust_type)\n",
    "#set(temp.dropna())\n",
    "all_data[x]=temp\n",
    "#set(all_data[x].dropna())"
   ]
  },
  {
   "cell_type": "code",
   "execution_count": 27,
   "metadata": {},
   "outputs": [],
   "source": [
    "x=\"10003\"\n",
    "#set(all_data[x].dropna())"
   ]
  },
  {
   "cell_type": "code",
   "execution_count": 28,
   "metadata": {},
   "outputs": [],
   "source": [
    "temp=all_data[x].apply(adjust_type)\n",
    "#set(temp.dropna())\n",
    "all_data[x]=temp\n",
    "#set(all_data[x].dropna())"
   ]
  },
  {
   "cell_type": "code",
   "execution_count": 29,
   "metadata": {},
   "outputs": [],
   "source": [
    "x=\"10004\"\n",
    "#set(all_data[x].dropna())"
   ]
  },
  {
   "cell_type": "code",
   "execution_count": 30,
   "metadata": {},
   "outputs": [],
   "source": [
    "temp=all_data[x].apply(adjust_type)\n",
    "#set(temp.dropna())\n",
    "all_data[x]=temp\n",
    "#set(all_data[x].dropna())"
   ]
  },
  {
   "cell_type": "code",
   "execution_count": 31,
   "metadata": {},
   "outputs": [],
   "source": [
    "all_data[x][all_data[x]==-1799.76]=all_data[x].median()# 修正离群值"
   ]
  },
  {
   "cell_type": "code",
   "execution_count": 32,
   "metadata": {},
   "outputs": [],
   "source": [
    "x=\"10009\"\n",
    "#set(all_data[x].dropna())"
   ]
  },
  {
   "cell_type": "code",
   "execution_count": 33,
   "metadata": {},
   "outputs": [],
   "source": [
    "temp=all_data[x].apply(adjust_type)\n",
    "#set(temp.dropna())\n",
    "all_data[x]=temp\n",
    "#set(all_data[x].dropna())"
   ]
  },
  {
   "cell_type": "code",
   "execution_count": 34,
   "metadata": {},
   "outputs": [],
   "source": [
    "x=\"1106\"\n",
    "#set(all_data[x].dropna())"
   ]
  },
  {
   "cell_type": "code",
   "execution_count": 35,
   "metadata": {},
   "outputs": [],
   "source": [
    "temp=all_data[x].apply(adjust_type)\n",
    "#set(temp.dropna())\n",
    "all_data[x]=temp\n",
    "#set(all_data[x].dropna())"
   ]
  },
  {
   "cell_type": "code",
   "execution_count": 36,
   "metadata": {},
   "outputs": [],
   "source": [
    "x=\"1107\"\n",
    "#set(all_data[x].dropna())"
   ]
  },
  {
   "cell_type": "code",
   "execution_count": 37,
   "metadata": {},
   "outputs": [],
   "source": [
    "temp=all_data[x].apply(adjust_type)\n",
    "#set(temp.dropna())\n",
    "all_data[x]=temp\n",
    "#set(all_data[x].dropna())"
   ]
  },
  {
   "cell_type": "code",
   "execution_count": 38,
   "metadata": {},
   "outputs": [],
   "source": [
    "x=\"1110\"\n",
    "#set(all_data[x].dropna())"
   ]
  },
  {
   "cell_type": "code",
   "execution_count": 39,
   "metadata": {},
   "outputs": [],
   "source": [
    "temp=all_data[x].apply(adjust_type)\n",
    "#set(temp.dropna())\n",
    "all_data[x]=temp\n",
    "#set(all_data[x].dropna())"
   ]
  },
  {
   "cell_type": "code",
   "execution_count": 40,
   "metadata": {},
   "outputs": [],
   "source": [
    "x=\"1112\"\n",
    "#set(all_data[x].dropna())"
   ]
  },
  {
   "cell_type": "code",
   "execution_count": 41,
   "metadata": {},
   "outputs": [],
   "source": [
    "temp=all_data[x].apply(adjust_type)\n",
    "#set(temp.dropna())\n",
    "all_data[x]=temp\n",
    "#set(all_data[x].dropna())"
   ]
  },
  {
   "cell_type": "code",
   "execution_count": 42,
   "metadata": {},
   "outputs": [],
   "source": [
    "x=\"1115\"\n",
    "#set(all_data[x].dropna())"
   ]
  },
  {
   "cell_type": "code",
   "execution_count": 43,
   "metadata": {},
   "outputs": [],
   "source": [
    "temp=all_data[x].apply(adjust_type)\n",
    "#set(temp.dropna())\n",
    "all_data[x]=temp\n",
    "#set(all_data[x].dropna())"
   ]
  },
  {
   "cell_type": "code",
   "execution_count": 44,
   "metadata": {},
   "outputs": [],
   "source": [
    "x=\"1117\"\n",
    "#set(all_data[x].dropna())"
   ]
  },
  {
   "cell_type": "code",
   "execution_count": 45,
   "metadata": {},
   "outputs": [],
   "source": [
    "temp=all_data[x].apply(adjust_type)\n",
    "#set(temp.dropna())\n",
    "all_data[x]=temp\n",
    "#set(all_data[x].dropna())"
   ]
  },
  {
   "cell_type": "code",
   "execution_count": 46,
   "metadata": {},
   "outputs": [],
   "source": [
    "x=\"1127\"\n",
    "#set(all_data[x].dropna())"
   ]
  },
  {
   "cell_type": "code",
   "execution_count": 47,
   "metadata": {},
   "outputs": [],
   "source": [
    "temp=all_data[x].apply(adjust_type)\n",
    "#set(temp.dropna())\n",
    "all_data[x]=temp\n",
    "#set(all_data[x].dropna())"
   ]
  },
  {
   "cell_type": "code",
   "execution_count": 48,
   "metadata": {},
   "outputs": [],
   "source": [
    "x=\"143\"\n",
    "#set(all_data[x].dropna())"
   ]
  },
  {
   "cell_type": "code",
   "execution_count": 49,
   "metadata": {},
   "outputs": [],
   "source": [
    "temp=all_data[x].apply(adjust_type)\n",
    "#set(temp.dropna())\n",
    "all_data[x]=temp\n",
    "#set(all_data[x].dropna())"
   ]
  },
  {
   "cell_type": "code",
   "execution_count": 50,
   "metadata": {},
   "outputs": [],
   "source": [
    "x=\"1474\"\n",
    "#set(all_data[x].dropna())\n",
    "temp=all_data[x].apply(adjust_type)\n",
    "#set(temp.dropna())\n",
    "all_data[x]=temp\n",
    "#set(all_data[x].dropna())"
   ]
  },
  {
   "cell_type": "code",
   "execution_count": 51,
   "metadata": {},
   "outputs": [],
   "source": [
    "x=\"155\"\n",
    "#set(all_data[x].dropna())\n",
    "temp=all_data[x].apply(adjust_type)\n",
    "#set(temp.dropna())\n",
    "all_data[x]=temp\n",
    "#set(all_data[x].dropna())"
   ]
  },
  {
   "cell_type": "code",
   "execution_count": 52,
   "metadata": {},
   "outputs": [],
   "source": [
    "x=\"1814\"\n",
    "#set(all_data[x].dropna())\n",
    "temp=all_data[x].apply(adjust_type)\n",
    "#set(temp.dropna())\n",
    "all_data[x]=temp\n",
    "#set(all_data[x].dropna())"
   ]
  },
  {
   "cell_type": "code",
   "execution_count": 53,
   "metadata": {},
   "outputs": [],
   "source": [
    "x=\"1815\"\n",
    "#set(all_data[x].dropna())"
   ]
  },
  {
   "cell_type": "code",
   "execution_count": 54,
   "metadata": {},
   "outputs": [],
   "source": [
    "temp=all_data[x].apply(adjust_type)\n",
    "#set(temp.dropna())\n",
    "all_data[x]=temp\n",
    "#set(all_data[x].dropna())"
   ]
  },
  {
   "cell_type": "code",
   "execution_count": 55,
   "metadata": {},
   "outputs": [],
   "source": [
    "x=\"183\"\n",
    "#set(all_data[x].dropna())"
   ]
  },
  {
   "cell_type": "code",
   "execution_count": 56,
   "metadata": {},
   "outputs": [],
   "source": [
    "temp=all_data[x].apply(adjust_type)\n",
    "#set(temp.dropna())\n",
    "all_data[x]=temp\n",
    "#set(all_data[x].dropna())"
   ]
  },
  {
   "cell_type": "code",
   "execution_count": 57,
   "metadata": {},
   "outputs": [],
   "source": [
    "x=\"1842\"\n",
    "temp=all_data[x].apply(adjust_type)\n",
    "#set(temp.dropna())\n",
    "all_data[x]=temp\n",
    "#set(all_data[x].dropna())"
   ]
  },
  {
   "cell_type": "code",
   "execution_count": 58,
   "metadata": {},
   "outputs": [],
   "source": [
    "x=\"1844\"\n",
    "temp=all_data[x].apply(adjust_type)\n",
    "#set(temp.dropna())\n",
    "all_data[x]=temp\n",
    "#set(all_data[x].dropna())"
   ]
  },
  {
   "cell_type": "code",
   "execution_count": 59,
   "metadata": {},
   "outputs": [],
   "source": [
    "x=\"1845\"\n",
    "temp=all_data[x].apply(adjust_type)\n",
    "#set(temp.dropna())\n",
    "all_data[x]=temp\n",
    "#set(all_data[x].dropna())"
   ]
  },
  {
   "cell_type": "code",
   "execution_count": 60,
   "metadata": {},
   "outputs": [],
   "source": [
    "x=\"1873\"\n",
    "temp=all_data[x].apply(adjust_type)\n",
    "#set(temp.dropna())\n",
    "all_data[x]=temp\n",
    "#set(all_data[x].dropna())"
   ]
  },
  {
   "cell_type": "code",
   "execution_count": 61,
   "metadata": {},
   "outputs": [],
   "source": [
    "x=\"1850\"\n",
    "temp=all_data[x].apply(adjust_type)\n",
    "#set(temp.dropna())\n",
    "all_data[x]=temp\n",
    "#set(all_data[x].dropna())"
   ]
  },
  {
   "cell_type": "code",
   "execution_count": 62,
   "metadata": {},
   "outputs": [],
   "source": [
    "x=\"189\"\n",
    "temp=all_data[x].apply(adjust_type)\n",
    "#set(temp.dropna())\n",
    "all_data[x]=temp\n",
    "#set(all_data[x].dropna())"
   ]
  },
  {
   "cell_type": "code",
   "execution_count": 63,
   "metadata": {},
   "outputs": [],
   "source": [
    "x=\"190\"\n",
    "temp=all_data[x].apply(adjust_type)\n",
    "#set(temp.dropna())\n",
    "all_data[x]=temp\n",
    "#set(all_data[x].dropna())"
   ]
  },
  {
   "cell_type": "code",
   "execution_count": 64,
   "metadata": {},
   "outputs": [],
   "source": [
    "x=\"191\"\n",
    "temp=all_data[x].apply(adjust_type)\n",
    "#set(temp.dropna())\n",
    "all_data[x]=temp\n",
    "#set(all_data[x].dropna())"
   ]
  },
  {
   "cell_type": "code",
   "execution_count": 65,
   "metadata": {},
   "outputs": [],
   "source": [
    "x=\"192\"\n",
    "temp=all_data[x].apply(adjust_type)\n",
    "#set(temp.dropna())\n",
    "all_data[x]=temp\n",
    "#set(all_data[x].dropna())"
   ]
  },
  {
   "cell_type": "code",
   "execution_count": 66,
   "metadata": {},
   "outputs": [],
   "source": [
    "x=\"193\"\n",
    "temp=all_data[x].apply(adjust_type)\n",
    "#set(temp.dropna())\n",
    "all_data[x]=temp\n",
    "#set(all_data[x].dropna())"
   ]
  },
  {
   "cell_type": "code",
   "execution_count": 67,
   "metadata": {},
   "outputs": [],
   "source": [
    "x=\"20002\"\n",
    "temp=all_data[x].apply(adjust_type)\n",
    "#set(temp.dropna())\n",
    "all_data[x]=temp\n",
    "#set(all_data[x].dropna())"
   ]
  },
  {
   "cell_type": "code",
   "execution_count": 68,
   "metadata": {},
   "outputs": [],
   "source": [
    "x=\"2165\"\n",
    "temp=all_data[x].apply(adjust_type)\n",
    "#set(temp.dropna())\n",
    "all_data[x]=temp\n",
    "#set(all_data[x].dropna())"
   ]
  },
  {
   "cell_type": "code",
   "execution_count": 69,
   "metadata": {},
   "outputs": [],
   "source": [
    "x=\"2174\"\n",
    "temp=all_data[x].apply(adjust_type)\n",
    "#set(temp.dropna())\n",
    "all_data[x]=temp\n",
    "#set(all_data[x].dropna())"
   ]
  },
  {
   "cell_type": "code",
   "execution_count": 70,
   "metadata": {},
   "outputs": [],
   "source": [
    "x=\"2177\"\n",
    "temp=all_data[x].apply(adjust_type)\n",
    "#set(temp.dropna())\n",
    "all_data[x]=temp\n",
    "#set(all_data[x].dropna())"
   ]
  },
  {
   "cell_type": "code",
   "execution_count": 71,
   "metadata": {},
   "outputs": [],
   "source": [
    "x=\"2333\"\n",
    "temp=all_data[x].apply(adjust_type)\n",
    "#set(temp.dropna())\n",
    "all_data[x]=temp\n",
    "#set(all_data[x].dropna())"
   ]
  },
  {
   "cell_type": "code",
   "execution_count": 72,
   "metadata": {},
   "outputs": [],
   "source": [
    "x=\"2371\"\n",
    "#set(all_data[x].dropna())"
   ]
  },
  {
   "cell_type": "code",
   "execution_count": 73,
   "metadata": {},
   "outputs": [
    {
     "data": {
      "text/plain": [
       "51"
      ]
     },
     "execution_count": 73,
     "metadata": {},
     "output_type": "execute_result"
    }
   ],
   "source": [
    "(all_data[x]==\"+\").sum()+(all_data[x]==\"-\").sum()"
   ]
  },
  {
   "cell_type": "code",
   "execution_count": 74,
   "metadata": {},
   "outputs": [],
   "source": [
    "# 阴性 0 大部分 + - 大部分 为-  默认处理 没有问题\n",
    "temp=all_data[x].apply(adjust_type)\n",
    "#set(temp.dropna())\n",
    "all_data[x]=temp\n",
    "#set(all_data[x].dropna())"
   ]
  },
  {
   "cell_type": "code",
   "execution_count": 75,
   "metadata": {},
   "outputs": [],
   "source": [
    "x=\"2372\"\n",
    "#set(all_data[x].dropna())"
   ]
  },
  {
   "cell_type": "code",
   "execution_count": 76,
   "metadata": {},
   "outputs": [],
   "source": [
    "temp=all_data[x].apply(adjust_type)\n",
    "#set(temp.dropna())\n",
    "all_data[x]=temp\n",
    "#set(all_data[x].dropna())"
   ]
  },
  {
   "cell_type": "code",
   "execution_count": 77,
   "metadata": {},
   "outputs": [],
   "source": [
    "x=\"2376\"\n",
    "#set(all_data[x].dropna())"
   ]
  },
  {
   "cell_type": "code",
   "execution_count": 78,
   "metadata": {},
   "outputs": [],
   "source": [
    "temp=all_data[x].apply(adjust_type)\n",
    "#set(temp.dropna())\n",
    "all_data[x]=temp\n",
    "#set(all_data[x].dropna())"
   ]
  },
  {
   "cell_type": "code",
   "execution_count": 79,
   "metadata": {},
   "outputs": [],
   "source": [
    "x=\"2386\"\n",
    "#set(all_data[x].dropna())"
   ]
  },
  {
   "cell_type": "code",
   "execution_count": 80,
   "metadata": {},
   "outputs": [],
   "source": [
    "temp=all_data[x].apply(adjust_type)\n",
    "#set(temp.dropna())\n",
    "all_data[x]=temp\n",
    "#set(all_data[x].dropna())"
   ]
  },
  {
   "cell_type": "code",
   "execution_count": 81,
   "metadata": {},
   "outputs": [],
   "source": [
    "x=\"2390\"\n",
    "#set(all_data[x].dropna())"
   ]
  },
  {
   "cell_type": "code",
   "execution_count": 82,
   "metadata": {},
   "outputs": [],
   "source": [
    "temp=all_data[x].apply(adjust_type)\n",
    "#set(temp.dropna())\n",
    "all_data[x]=temp\n",
    "#set(all_data[x].dropna())"
   ]
  },
  {
   "cell_type": "code",
   "execution_count": 83,
   "metadata": {},
   "outputs": [],
   "source": [
    "x=\"2403\"\n",
    "#set(all_data[x].dropna())"
   ]
  },
  {
   "cell_type": "code",
   "execution_count": 84,
   "metadata": {},
   "outputs": [],
   "source": [
    "temp=all_data[x].apply(adjust_type)\n",
    "#set(temp.dropna())\n",
    "all_data[x]=temp\n",
    "#set(all_data[x].dropna())"
   ]
  },
  {
   "cell_type": "code",
   "execution_count": 85,
   "metadata": {},
   "outputs": [],
   "source": [
    "x=\"2404\"\n",
    "#set(all_data[x].dropna())"
   ]
  },
  {
   "cell_type": "code",
   "execution_count": 86,
   "metadata": {},
   "outputs": [],
   "source": [
    "temp=all_data[x].apply(adjust_type)\n",
    "#set(temp.dropna())\n",
    "all_data[x]=temp\n",
    "#set(all_data[x].dropna())"
   ]
  },
  {
   "cell_type": "code",
   "execution_count": 87,
   "metadata": {},
   "outputs": [],
   "source": [
    "x=\"2405\"\n",
    "#set(all_data[x].dropna())"
   ]
  },
  {
   "cell_type": "code",
   "execution_count": 88,
   "metadata": {},
   "outputs": [],
   "source": [
    "temp=all_data[x].apply(adjust_type)\n",
    "#set(temp.dropna())\n",
    "all_data[x]=temp\n",
    "#set(all_data[x].dropna())"
   ]
  },
  {
   "cell_type": "code",
   "execution_count": 89,
   "metadata": {},
   "outputs": [],
   "source": [
    "x=\"2407\"\n",
    "#set(all_data[x].dropna())"
   ]
  },
  {
   "cell_type": "code",
   "execution_count": 90,
   "metadata": {},
   "outputs": [],
   "source": [
    "temp=all_data[x].apply(adjust_type)\n",
    "#set(temp.dropna())\n",
    "all_data[x]=temp\n",
    "#set(all_data[x].dropna())"
   ]
  },
  {
   "cell_type": "code",
   "execution_count": 91,
   "metadata": {},
   "outputs": [],
   "source": [
    "x=\"2406\"\n",
    "#set(all_data[x].dropna())"
   ]
  },
  {
   "cell_type": "code",
   "execution_count": 92,
   "metadata": {},
   "outputs": [],
   "source": [
    "temp=all_data[x].apply(adjust_type)\n",
    "#set(temp.dropna())\n",
    "all_data[x]=temp\n",
    "#set(all_data[x].dropna())"
   ]
  },
  {
   "cell_type": "code",
   "execution_count": 93,
   "metadata": {},
   "outputs": [],
   "source": [
    "x=\"2409\"\n",
    "#set(all_data[x].dropna())"
   ]
  },
  {
   "cell_type": "code",
   "execution_count": 94,
   "metadata": {},
   "outputs": [],
   "source": [
    "temp=all_data[x].apply(adjust_type)\n",
    "#set(temp.dropna())\n",
    "all_data[x]=temp\n",
    "#set(all_data[x].dropna())"
   ]
  },
  {
   "cell_type": "code",
   "execution_count": 95,
   "metadata": {},
   "outputs": [],
   "source": [
    "x=\"2410\"\n",
    "#set(all_data[x].dropna())"
   ]
  },
  {
   "cell_type": "code",
   "execution_count": 96,
   "metadata": {},
   "outputs": [],
   "source": [
    "temp=all_data[x].apply(adjust_type)\n",
    "#set(temp.dropna())\n",
    "all_data[x]=temp\n",
    "#set(all_data[x].dropna())"
   ]
  },
  {
   "cell_type": "code",
   "execution_count": 97,
   "metadata": {},
   "outputs": [],
   "source": [
    "x=\"2412\"\n",
    "#set(all_data[x].dropna())"
   ]
  },
  {
   "cell_type": "code",
   "execution_count": 98,
   "metadata": {},
   "outputs": [],
   "source": [
    "temp=all_data[x].apply(adjust_type)\n",
    "#set(temp.dropna())\n",
    "all_data[x]=temp\n",
    "#set(all_data[x].dropna())"
   ]
  },
  {
   "cell_type": "code",
   "execution_count": 99,
   "metadata": {},
   "outputs": [],
   "source": [
    "x=\"2420\"\n",
    "#set(all_data[x].dropna())"
   ]
  },
  {
   "cell_type": "code",
   "execution_count": 100,
   "metadata": {},
   "outputs": [],
   "source": [
    "temp=all_data[x].apply(adjust_type)\n",
    "#set(temp.dropna())\n",
    "all_data[x]=temp\n",
    "#set(all_data[x].dropna())"
   ]
  },
  {
   "cell_type": "code",
   "execution_count": 101,
   "metadata": {},
   "outputs": [],
   "source": [
    "num_list=[\"269003\",\"269004\",\"269005\",\"269007\",\"269008\",\"269009\",\"2986\",\"300001\",\"300008\",\"300009\",\"300011\",\"300012\",\"300013\",\"300014\",\"300017\",\"300018\",\"300019\",\"300021\",\"300035\",\"300044\",\"300048\",\"30006\",\"300068\",\"300074\",\"300076\",\"300078\",\"300092\",\"312\",\"313\",\"314\",\"3193\",\"32\",\"320\",\"321\",\"38\"]"
   ]
  },
  {
   "cell_type": "code",
   "execution_count": 102,
   "metadata": {},
   "outputs": [],
   "source": [
    "# 查看数据基本情况\n",
    "num_list_df=pd.DataFrame()\n",
    "for x in num_list:\n",
    "    num_list_df=pd.concat([num_list_df,pd.DataFrame(list(set(all_data[x].dropna())),columns=[x])],\n",
    "                         axis=1)\n",
    "    pass"
   ]
  },
  {
   "cell_type": "code",
   "execution_count": 103,
   "metadata": {},
   "outputs": [],
   "source": [
    "# 修正数据\n",
    "for x in num_list:\n",
    "    temp=all_data[x].apply(adjust_type)\n",
    "    all_data[x]=temp\n",
    "    pass"
   ]
  },
  {
   "cell_type": "code",
   "execution_count": 104,
   "metadata": {},
   "outputs": [
    {
     "data": {
      "text/plain": [
       "dtype('float64')"
      ]
     },
     "execution_count": 104,
     "metadata": {},
     "output_type": "execute_result"
    },
    {
     "data": {
      "text/plain": [
       "dtype('float64')"
      ]
     },
     "execution_count": 104,
     "metadata": {},
     "output_type": "execute_result"
    },
    {
     "data": {
      "text/plain": [
       "dtype('float64')"
      ]
     },
     "execution_count": 104,
     "metadata": {},
     "output_type": "execute_result"
    },
    {
     "data": {
      "text/plain": [
       "dtype('float64')"
      ]
     },
     "execution_count": 104,
     "metadata": {},
     "output_type": "execute_result"
    },
    {
     "data": {
      "text/plain": [
       "dtype('float64')"
      ]
     },
     "execution_count": 104,
     "metadata": {},
     "output_type": "execute_result"
    },
    {
     "data": {
      "text/plain": [
       "dtype('float64')"
      ]
     },
     "execution_count": 104,
     "metadata": {},
     "output_type": "execute_result"
    },
    {
     "data": {
      "text/plain": [
       "dtype('float64')"
      ]
     },
     "execution_count": 104,
     "metadata": {},
     "output_type": "execute_result"
    },
    {
     "data": {
      "text/plain": [
       "dtype('float64')"
      ]
     },
     "execution_count": 104,
     "metadata": {},
     "output_type": "execute_result"
    },
    {
     "data": {
      "text/plain": [
       "dtype('float64')"
      ]
     },
     "execution_count": 104,
     "metadata": {},
     "output_type": "execute_result"
    },
    {
     "data": {
      "text/plain": [
       "dtype('float64')"
      ]
     },
     "execution_count": 104,
     "metadata": {},
     "output_type": "execute_result"
    },
    {
     "data": {
      "text/plain": [
       "dtype('float64')"
      ]
     },
     "execution_count": 104,
     "metadata": {},
     "output_type": "execute_result"
    },
    {
     "data": {
      "text/plain": [
       "dtype('float64')"
      ]
     },
     "execution_count": 104,
     "metadata": {},
     "output_type": "execute_result"
    },
    {
     "data": {
      "text/plain": [
       "dtype('float64')"
      ]
     },
     "execution_count": 104,
     "metadata": {},
     "output_type": "execute_result"
    },
    {
     "data": {
      "text/plain": [
       "dtype('float64')"
      ]
     },
     "execution_count": 104,
     "metadata": {},
     "output_type": "execute_result"
    },
    {
     "data": {
      "text/plain": [
       "dtype('float64')"
      ]
     },
     "execution_count": 104,
     "metadata": {},
     "output_type": "execute_result"
    },
    {
     "data": {
      "text/plain": [
       "dtype('float64')"
      ]
     },
     "execution_count": 104,
     "metadata": {},
     "output_type": "execute_result"
    },
    {
     "data": {
      "text/plain": [
       "dtype('float64')"
      ]
     },
     "execution_count": 104,
     "metadata": {},
     "output_type": "execute_result"
    },
    {
     "data": {
      "text/plain": [
       "dtype('float64')"
      ]
     },
     "execution_count": 104,
     "metadata": {},
     "output_type": "execute_result"
    },
    {
     "data": {
      "text/plain": [
       "dtype('float64')"
      ]
     },
     "execution_count": 104,
     "metadata": {},
     "output_type": "execute_result"
    },
    {
     "data": {
      "text/plain": [
       "dtype('float64')"
      ]
     },
     "execution_count": 104,
     "metadata": {},
     "output_type": "execute_result"
    },
    {
     "data": {
      "text/plain": [
       "dtype('float64')"
      ]
     },
     "execution_count": 104,
     "metadata": {},
     "output_type": "execute_result"
    },
    {
     "data": {
      "text/plain": [
       "dtype('float64')"
      ]
     },
     "execution_count": 104,
     "metadata": {},
     "output_type": "execute_result"
    },
    {
     "data": {
      "text/plain": [
       "dtype('float64')"
      ]
     },
     "execution_count": 104,
     "metadata": {},
     "output_type": "execute_result"
    },
    {
     "data": {
      "text/plain": [
       "dtype('float64')"
      ]
     },
     "execution_count": 104,
     "metadata": {},
     "output_type": "execute_result"
    },
    {
     "data": {
      "text/plain": [
       "dtype('float64')"
      ]
     },
     "execution_count": 104,
     "metadata": {},
     "output_type": "execute_result"
    },
    {
     "data": {
      "text/plain": [
       "dtype('float64')"
      ]
     },
     "execution_count": 104,
     "metadata": {},
     "output_type": "execute_result"
    },
    {
     "data": {
      "text/plain": [
       "dtype('float64')"
      ]
     },
     "execution_count": 104,
     "metadata": {},
     "output_type": "execute_result"
    },
    {
     "data": {
      "text/plain": [
       "dtype('float64')"
      ]
     },
     "execution_count": 104,
     "metadata": {},
     "output_type": "execute_result"
    },
    {
     "data": {
      "text/plain": [
       "dtype('float64')"
      ]
     },
     "execution_count": 104,
     "metadata": {},
     "output_type": "execute_result"
    },
    {
     "data": {
      "text/plain": [
       "dtype('float64')"
      ]
     },
     "execution_count": 104,
     "metadata": {},
     "output_type": "execute_result"
    },
    {
     "data": {
      "text/plain": [
       "dtype('float64')"
      ]
     },
     "execution_count": 104,
     "metadata": {},
     "output_type": "execute_result"
    },
    {
     "data": {
      "text/plain": [
       "dtype('float64')"
      ]
     },
     "execution_count": 104,
     "metadata": {},
     "output_type": "execute_result"
    },
    {
     "data": {
      "text/plain": [
       "dtype('float64')"
      ]
     },
     "execution_count": 104,
     "metadata": {},
     "output_type": "execute_result"
    },
    {
     "data": {
      "text/plain": [
       "dtype('float64')"
      ]
     },
     "execution_count": 104,
     "metadata": {},
     "output_type": "execute_result"
    },
    {
     "data": {
      "text/plain": [
       "dtype('float64')"
      ]
     },
     "execution_count": 104,
     "metadata": {},
     "output_type": "execute_result"
    }
   ],
   "source": [
    "# 检验修正结果\n",
    "for x in num_list:\n",
    "    all_data[x].dropna().dtype\n",
    "    pass"
   ]
  },
  {
   "cell_type": "code",
   "execution_count": 105,
   "metadata": {},
   "outputs": [
    {
     "data": {
      "text/plain": [
       "['269010--269026', '3189', '3301']"
      ]
     },
     "execution_count": 105,
     "metadata": {},
     "output_type": "execute_result"
    }
   ],
   "source": [
    "num_list_old=[\"269003\",\"269004\",\"269005\",\"269007\",\"269008\",\"269009\",\"269010--269026\",\"2986\",\"300001\",\"300008\",\"300009\",\"300011\",\"300012\",\"300013\",\"300014\",\"300017\",\"300018\",\"300019\",\"300021\",\"300035\",\"300044\",\"300048\",\"30006\",\"300068\",\"300074\",\"300076\",\"300078\",\"300092\",\"312\",\"313\",\"314\",\"3189\",\"3193\",\"32\",\"320\",\"321\",\"3301\",\"38\"]\n",
    "for x in num_list:\n",
    "    num_list_old.remove(x)\n",
    "    pass\n",
    "num_list_old"
   ]
  },
  {
   "cell_type": "code",
   "execution_count": 106,
   "metadata": {},
   "outputs": [
    {
     "data": {
      "text/plain": [
       "['269010',\n",
       " '269011',\n",
       " '269012',\n",
       " '269013',\n",
       " '269014',\n",
       " '269015',\n",
       " '269016',\n",
       " '269017',\n",
       " '269018',\n",
       " '269019',\n",
       " '269020',\n",
       " '269021',\n",
       " '269022',\n",
       " '269023',\n",
       " '269024',\n",
       " '269025',\n",
       " '269026']"
      ]
     },
     "execution_count": 106,
     "metadata": {},
     "output_type": "execute_result"
    }
   ],
   "source": [
    "num_list_remain=list(range(269010,269027))\n",
    "#num_list_remain.append(209006)\n",
    "#num_list_remain.append(3189)\n",
    "#num_list_remain.append(3301)\n",
    "num_list_remain=[str(x) for x in num_list_remain]\n",
    "num_list_remain"
   ]
  },
  {
   "cell_type": "code",
   "execution_count": 107,
   "metadata": {},
   "outputs": [],
   "source": [
    "# 查看数据基本情况\n",
    "num_list_df=pd.DataFrame()\n",
    "for x in num_list_remain:\n",
    "    num_list_df=pd.concat([num_list_df,pd.DataFrame(list(set(all_data[x].dropna())),columns=[x])],\n",
    "                         axis=1)\n",
    "    pass\n",
    "#num_list_df"
   ]
  },
  {
   "cell_type": "code",
   "execution_count": 108,
   "metadata": {},
   "outputs": [],
   "source": [
    "# 修正数据\n",
    "for x in num_list_remain:\n",
    "    temp=all_data[x].apply(adjust_type)\n",
    "    all_data[x]=temp\n",
    "    pass"
   ]
  },
  {
   "cell_type": "code",
   "execution_count": 109,
   "metadata": {},
   "outputs": [
    {
     "data": {
      "text/plain": [
       "dtype('float64')"
      ]
     },
     "execution_count": 109,
     "metadata": {},
     "output_type": "execute_result"
    },
    {
     "data": {
      "text/plain": [
       "dtype('float64')"
      ]
     },
     "execution_count": 109,
     "metadata": {},
     "output_type": "execute_result"
    },
    {
     "data": {
      "text/plain": [
       "dtype('float64')"
      ]
     },
     "execution_count": 109,
     "metadata": {},
     "output_type": "execute_result"
    },
    {
     "data": {
      "text/plain": [
       "dtype('float64')"
      ]
     },
     "execution_count": 109,
     "metadata": {},
     "output_type": "execute_result"
    },
    {
     "data": {
      "text/plain": [
       "dtype('float64')"
      ]
     },
     "execution_count": 109,
     "metadata": {},
     "output_type": "execute_result"
    },
    {
     "data": {
      "text/plain": [
       "dtype('float64')"
      ]
     },
     "execution_count": 109,
     "metadata": {},
     "output_type": "execute_result"
    },
    {
     "data": {
      "text/plain": [
       "dtype('float64')"
      ]
     },
     "execution_count": 109,
     "metadata": {},
     "output_type": "execute_result"
    },
    {
     "data": {
      "text/plain": [
       "dtype('float64')"
      ]
     },
     "execution_count": 109,
     "metadata": {},
     "output_type": "execute_result"
    },
    {
     "data": {
      "text/plain": [
       "dtype('float64')"
      ]
     },
     "execution_count": 109,
     "metadata": {},
     "output_type": "execute_result"
    },
    {
     "data": {
      "text/plain": [
       "dtype('float64')"
      ]
     },
     "execution_count": 109,
     "metadata": {},
     "output_type": "execute_result"
    },
    {
     "data": {
      "text/plain": [
       "dtype('float64')"
      ]
     },
     "execution_count": 109,
     "metadata": {},
     "output_type": "execute_result"
    },
    {
     "data": {
      "text/plain": [
       "dtype('float64')"
      ]
     },
     "execution_count": 109,
     "metadata": {},
     "output_type": "execute_result"
    },
    {
     "data": {
      "text/plain": [
       "dtype('float64')"
      ]
     },
     "execution_count": 109,
     "metadata": {},
     "output_type": "execute_result"
    },
    {
     "data": {
      "text/plain": [
       "dtype('float64')"
      ]
     },
     "execution_count": 109,
     "metadata": {},
     "output_type": "execute_result"
    },
    {
     "data": {
      "text/plain": [
       "dtype('float64')"
      ]
     },
     "execution_count": 109,
     "metadata": {},
     "output_type": "execute_result"
    },
    {
     "data": {
      "text/plain": [
       "dtype('float64')"
      ]
     },
     "execution_count": 109,
     "metadata": {},
     "output_type": "execute_result"
    },
    {
     "data": {
      "text/plain": [
       "dtype('float64')"
      ]
     },
     "execution_count": 109,
     "metadata": {},
     "output_type": "execute_result"
    },
    {
     "data": {
      "text/plain": [
       "dtype('float64')"
      ]
     },
     "execution_count": 109,
     "metadata": {},
     "output_type": "execute_result"
    },
    {
     "data": {
      "text/plain": [
       "dtype('float64')"
      ]
     },
     "execution_count": 109,
     "metadata": {},
     "output_type": "execute_result"
    },
    {
     "data": {
      "text/plain": [
       "dtype('float64')"
      ]
     },
     "execution_count": 109,
     "metadata": {},
     "output_type": "execute_result"
    },
    {
     "data": {
      "text/plain": [
       "dtype('float64')"
      ]
     },
     "execution_count": 109,
     "metadata": {},
     "output_type": "execute_result"
    },
    {
     "data": {
      "text/plain": [
       "dtype('float64')"
      ]
     },
     "execution_count": 109,
     "metadata": {},
     "output_type": "execute_result"
    },
    {
     "data": {
      "text/plain": [
       "dtype('float64')"
      ]
     },
     "execution_count": 109,
     "metadata": {},
     "output_type": "execute_result"
    },
    {
     "data": {
      "text/plain": [
       "dtype('float64')"
      ]
     },
     "execution_count": 109,
     "metadata": {},
     "output_type": "execute_result"
    },
    {
     "data": {
      "text/plain": [
       "dtype('float64')"
      ]
     },
     "execution_count": 109,
     "metadata": {},
     "output_type": "execute_result"
    },
    {
     "data": {
      "text/plain": [
       "dtype('float64')"
      ]
     },
     "execution_count": 109,
     "metadata": {},
     "output_type": "execute_result"
    },
    {
     "data": {
      "text/plain": [
       "dtype('float64')"
      ]
     },
     "execution_count": 109,
     "metadata": {},
     "output_type": "execute_result"
    },
    {
     "data": {
      "text/plain": [
       "dtype('float64')"
      ]
     },
     "execution_count": 109,
     "metadata": {},
     "output_type": "execute_result"
    },
    {
     "data": {
      "text/plain": [
       "dtype('float64')"
      ]
     },
     "execution_count": 109,
     "metadata": {},
     "output_type": "execute_result"
    },
    {
     "data": {
      "text/plain": [
       "dtype('float64')"
      ]
     },
     "execution_count": 109,
     "metadata": {},
     "output_type": "execute_result"
    },
    {
     "data": {
      "text/plain": [
       "dtype('float64')"
      ]
     },
     "execution_count": 109,
     "metadata": {},
     "output_type": "execute_result"
    },
    {
     "data": {
      "text/plain": [
       "dtype('float64')"
      ]
     },
     "execution_count": 109,
     "metadata": {},
     "output_type": "execute_result"
    },
    {
     "data": {
      "text/plain": [
       "dtype('float64')"
      ]
     },
     "execution_count": 109,
     "metadata": {},
     "output_type": "execute_result"
    },
    {
     "data": {
      "text/plain": [
       "dtype('float64')"
      ]
     },
     "execution_count": 109,
     "metadata": {},
     "output_type": "execute_result"
    },
    {
     "data": {
      "text/plain": [
       "dtype('float64')"
      ]
     },
     "execution_count": 109,
     "metadata": {},
     "output_type": "execute_result"
    }
   ],
   "source": [
    "# 检验修正结果\n",
    "for x in num_list:\n",
    "    all_data[x].dropna().dtype\n",
    "    pass"
   ]
  },
  {
   "cell_type": "code",
   "execution_count": 110,
   "metadata": {},
   "outputs": [
    {
     "data": {
      "text/plain": [
       "191"
      ]
     },
     "execution_count": 110,
     "metadata": {},
     "output_type": "execute_result"
    }
   ],
   "source": [
    "num_feat=all_data.select_dtypes(exclude=[\"object\"]).columns\n",
    "len(num_feat)"
   ]
  },
  {
   "cell_type": "code",
   "execution_count": 111,
   "metadata": {},
   "outputs": [
    {
     "data": {
      "text/plain": [
       "(38199, 408)"
      ]
     },
     "execution_count": 111,
     "metadata": {},
     "output_type": "execute_result"
    },
    {
     "data": {
      "text/plain": [
       "(9532, 408)"
      ]
     },
     "execution_count": 111,
     "metadata": {},
     "output_type": "execute_result"
    }
   ],
   "source": [
    "train=all_data.iloc[:train.shape[0],:]\n",
    "test=all_data.iloc[train.shape[0]:,:]\n",
    "train.shape\n",
    "test.shape"
   ]
  },
  {
   "cell_type": "code",
   "execution_count": 112,
   "metadata": {},
   "outputs": [],
   "source": [
    "train.to_csv(\"train_num_add.csv\")\n",
    "test.to_csv(\"test_num_add.csv\")"
   ]
  },
  {
   "cell_type": "code",
   "execution_count": 113,
   "metadata": {},
   "outputs": [
    {
     "data": {
      "text/html": [
       "<div>\n",
       "<style scoped>\n",
       "    .dataframe tbody tr th:only-of-type {\n",
       "        vertical-align: middle;\n",
       "    }\n",
       "\n",
       "    .dataframe tbody tr th {\n",
       "        vertical-align: top;\n",
       "    }\n",
       "\n",
       "    .dataframe thead th {\n",
       "        text-align: right;\n",
       "    }\n",
       "</style>\n",
       "<table border=\"1\" class=\"dataframe\">\n",
       "  <thead>\n",
       "    <tr style=\"text-align: right;\">\n",
       "      <th></th>\n",
       "      <th>收缩压</th>\n",
       "      <th>舒张压</th>\n",
       "      <th>血清甘油三酯</th>\n",
       "      <th>血清高密度脂蛋白</th>\n",
       "      <th>血清低密度脂蛋白</th>\n",
       "    </tr>\n",
       "  </thead>\n",
       "  <tbody>\n",
       "    <tr>\n",
       "      <th>count</th>\n",
       "      <td>38192.000000</td>\n",
       "      <td>38190.000000</td>\n",
       "      <td>38199.000000</td>\n",
       "      <td>38199.000000</td>\n",
       "      <td>38199.000000</td>\n",
       "    </tr>\n",
       "    <tr>\n",
       "      <th>mean</th>\n",
       "      <td>126.049618</td>\n",
       "      <td>76.998115</td>\n",
       "      <td>1.616563</td>\n",
       "      <td>1.406683</td>\n",
       "      <td>2.769720</td>\n",
       "    </tr>\n",
       "    <tr>\n",
       "      <th>std</th>\n",
       "      <td>19.275625</td>\n",
       "      <td>12.580344</td>\n",
       "      <td>1.344201</td>\n",
       "      <td>0.341184</td>\n",
       "      <td>0.852187</td>\n",
       "    </tr>\n",
       "    <tr>\n",
       "      <th>min</th>\n",
       "      <td>0.000000</td>\n",
       "      <td>0.000000</td>\n",
       "      <td>0.100000</td>\n",
       "      <td>0.150000</td>\n",
       "      <td>-1.200000</td>\n",
       "    </tr>\n",
       "    <tr>\n",
       "      <th>25%</th>\n",
       "      <td>112.000000</td>\n",
       "      <td>68.000000</td>\n",
       "      <td>0.880000</td>\n",
       "      <td>1.160000</td>\n",
       "      <td>2.180000</td>\n",
       "    </tr>\n",
       "    <tr>\n",
       "      <th>50%</th>\n",
       "      <td>124.000000</td>\n",
       "      <td>76.000000</td>\n",
       "      <td>1.270000</td>\n",
       "      <td>1.350000</td>\n",
       "      <td>2.690000</td>\n",
       "    </tr>\n",
       "    <tr>\n",
       "      <th>75%</th>\n",
       "      <td>137.000000</td>\n",
       "      <td>85.000000</td>\n",
       "      <td>1.910000</td>\n",
       "      <td>1.600000</td>\n",
       "      <td>3.260000</td>\n",
       "    </tr>\n",
       "    <tr>\n",
       "      <th>max</th>\n",
       "      <td>252.000000</td>\n",
       "      <td>148.000000</td>\n",
       "      <td>28.800000</td>\n",
       "      <td>4.780000</td>\n",
       "      <td>11.500000</td>\n",
       "    </tr>\n",
       "  </tbody>\n",
       "</table>\n",
       "</div>"
      ],
      "text/plain": [
       "                收缩压           舒张压        血清甘油三酯      血清高密度脂蛋白      血清低密度脂蛋白\n",
       "count  38192.000000  38190.000000  38199.000000  38199.000000  38199.000000\n",
       "mean     126.049618     76.998115      1.616563      1.406683      2.769720\n",
       "std       19.275625     12.580344      1.344201      0.341184      0.852187\n",
       "min        0.000000      0.000000      0.100000      0.150000     -1.200000\n",
       "25%      112.000000     68.000000      0.880000      1.160000      2.180000\n",
       "50%      124.000000     76.000000      1.270000      1.350000      2.690000\n",
       "75%      137.000000     85.000000      1.910000      1.600000      3.260000\n",
       "max      252.000000    148.000000     28.800000      4.780000     11.500000"
      ]
     },
     "execution_count": 113,
     "metadata": {},
     "output_type": "execute_result"
    }
   ],
   "source": [
    "train[targets].describe()"
   ]
  },
  {
   "cell_type": "code",
   "execution_count": null,
   "metadata": {},
   "outputs": [],
   "source": []
  }
 ],
 "metadata": {
  "kernelspec": {
   "display_name": "Python [conda env:Anaconda3]",
   "language": "python",
   "name": "conda-env-Anaconda3-py"
  },
  "language_info": {
   "codemirror_mode": {
    "name": "ipython",
    "version": 3
   },
   "file_extension": ".py",
   "mimetype": "text/x-python",
   "name": "python",
   "nbconvert_exporter": "python",
   "pygments_lexer": "ipython3",
   "version": "3.5.5"
  }
 },
 "nbformat": 4,
 "nbformat_minor": 2
}
